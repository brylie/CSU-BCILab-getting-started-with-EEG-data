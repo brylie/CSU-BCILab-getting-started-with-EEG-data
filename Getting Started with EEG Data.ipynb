{
 "cells": [
  {
   "cell_type": "markdown",
   "metadata": {},
   "source": [
    "# Getting Started with EEG Data\n",
    "\n",
    "In 2011-2012, the brain-computer interface (BCI) research group at Colorado State University recorded EEG signals from subjects in our lab and in their homes, using three different EEG systems. One goal of this work is to determine if inexpensive EEG systems (about $7,000) are as effective as more expensive ones (about $40,000) for conducting BCI experiments in the home.\n",
    "\n",
    "On this page, we summarize the steps you can follow to download some of the data, load it into an ipython environment, and visualize it. We also show examples of looking at P300 ERP’s."
   ]
  },
  {
   "cell_type": "markdown",
   "metadata": {},
   "source": [
    "# Downloading EEG Data\n",
    "\n",
    "EEG data from multiple subjects can be downloaded from our Public BCI Data site. Let’s select the data files for the first subject in each device column, for subjects recorded in our lab.\n",
    "\n",
    "![Data download page](http://www.cs.colostate.edu/eeg/data/json/doc/tutorial/_build/html/_images/eegDownload.png)"
   ]
  },
  {
   "cell_type": "markdown",
   "metadata": {},
   "source": [
    "# Extract the downloaded data\n",
    "The zip file should contain six zipped data files. Extract the files, for example using the following commands:\n",
    "\n",
    "```\n",
    "> cd ~/Download\n",
    "\n",
    "> unzip eeg.zip\n",
    "Archive:  eeg.zip\n",
    " extracting: s20-activetwo-gifford-unimpaired.json.zip\n",
    " extracting: s21-activetwo-gifford-unimpaired.json.zip\n",
    " extracting: s20-gammasys-gifford-unimpaired.json.zip\n",
    " extracting: s21-gammasys-gifford-unimpaired.json.zip\n",
    " extracting: s20-mindset-gifford-unimpaired.json.zip\n",
    " extracting: s21-mindset-gifford-unimpaired.json.zip\n",
    "\n",
    "> rm eeg.zip\n",
    "\n",
    "> ls -l --block-size=M *json*\n",
    "-rw-r--r-- 1 ... 84M Mar 12 10:50 s20-activetwo-gifford-unimpaired.json.zip\n",
    "-rw-r--r-- 1 ...  5M Mar 12 10:50 s20-gammasys-gifford-unimpaired.json.zip\n",
    "-rw-r--r-- 1 ... 29M Mar 12 10:50 s20-mindset-gifford-unimpaired.json.zip\n",
    "-rw-r--r-- 1 ... 80M Mar 12 10:51 s21-activetwo-gifford-unimpaired.json.zip\n",
    "-rw-r--r-- 1 ...  5M Mar 12 10:51 s21-gammasys-gifford-unimpaired.json.zip\n",
    "-rw-r--r-- 1 ... 28M Mar 12 10:52 s21-mindset-gifford-unimpaired.json.zip\n",
    "\n",
    "> unzip s20-gammasys-gifford-unimpaired.json.zip\n",
    "Archive:  s20-gammasys-gifford-unimpaired.json.zip\n",
    "  inflating: s20-gammasys-gifford-unimpaired.json\n",
    "\n",
    "> unzip s20-mindset-gifford-unimpaired.json.zip\n",
    "Archive:  s20-mindset-gifford-unimpaired.json.zip\n",
    "  inflating: s20-mindset-gifford-unimpaired.json\n",
    "\n",
    "> unzip s20-activetwo-gifford-unimpaired.json.zip\n",
    "Archive:  s20-activetwo-gifford-unimpaired.json.zip\n",
    "  inflating: s20-activetwo-gifford-unimpaired.json\n",
    "\n",
    "> rm s20*zip\n",
    "```"
   ]
  },
  {
   "cell_type": "markdown",
   "metadata": {
    "collapsed": true
   },
   "source": [
    "The unzipped data can loaded into an ipython environment."
   ]
  },
  {
   "cell_type": "code",
   "execution_count": 90,
   "metadata": {
    "collapsed": false
   },
   "outputs": [],
   "source": [
    "# Show matplotlib plots in this notebook\n",
    "%matplotlib inline\n",
    "\n",
    "# Imports\n",
    "import matplotlib.pyplot as plt\n",
    "import numpy as np\n",
    "import json\n",
    "import scipy.signal as sig"
   ]
  },
  {
   "cell_type": "code",
   "execution_count": 91,
   "metadata": {
    "collapsed": false
   },
   "outputs": [],
   "source": [
    "# Open the data file\n",
    "gammasys_data_file = open('data/s20-gammasys-gifford-unimpaired.json','r')\n",
    "\n",
    "# Parse data to JSON\n",
    "data = json.load(gammasys_data_file)"
   ]
  },
  {
   "cell_type": "markdown",
   "metadata": {},
   "source": [
    "The variable data is a list of dictionaries, each with the same keys."
   ]
  },
  {
   "cell_type": "code",
   "execution_count": 92,
   "metadata": {
    "collapsed": false
   },
   "outputs": [
    {
     "data": {
      "text/plain": [
       "8"
      ]
     },
     "execution_count": 92,
     "metadata": {},
     "output_type": "execute_result"
    }
   ],
   "source": [
    "len(data)"
   ]
  },
  {
   "cell_type": "code",
   "execution_count": 93,
   "metadata": {
    "collapsed": false
   },
   "outputs": [
    {
     "data": {
      "text/plain": [
       "dict_keys(['protocol', 'device', 'sample rate', 'channels', 'impairment', 'date', 'notes', 'location', 'subject', 'eeg'])"
      ]
     },
     "execution_count": 93,
     "metadata": {},
     "output_type": "execute_result"
    }
   ],
   "source": [
    "data[0].keys()"
   ]
  },
  {
   "cell_type": "markdown",
   "metadata": {},
   "source": [
    "Here is a handy function to show keys and their values in each data element."
   ]
  },
  {
   "cell_type": "code",
   "execution_count": 94,
   "metadata": {
    "collapsed": false
   },
   "outputs": [],
   "source": [
    "def summarize(datalist):\n",
    "    for i,element in enumerate(datalist):\n",
    "        keys = list(element.copy().keys())\n",
    "        print('\\nData set', i)\n",
    "        keys.remove('eeg')\n",
    "        for key in keys:\n",
    "            print('  {}: {}'.format(key,element[key]))\n",
    "        eegtrials = element['eeg']\n",
    "        shape = np.array(eegtrials['trial 1']).shape\n",
    "        print ('  eeg: {:d} trials, each a matrix with {:d} rows and approximately {:d} columns').format(  len(eegtrials), shape[0], shape[1])"
   ]
  },
  {
   "cell_type": "code",
   "execution_count": 95,
   "metadata": {
    "collapsed": false
   },
   "outputs": [
    {
     "name": "stdout",
     "output_type": "stream",
     "text": [
      "\n",
      "Data set 0\n",
      "  device: GAMMAsys\n",
      "  date: [2012, 3, 8]\n",
      "  location: gifford\n",
      "  notes: \n",
      "  protocol: 3minutes\n",
      "  subject: 20\n",
      "  sample rate: 256\n",
      "  impairment: none\n",
      "  channels: ['F3', 'F4', 'C3', 'C4', 'P3', 'P4', 'O1', 'O2']\n",
      "  eeg: {:d} trials, each a matrix with {:d} rows and approximately {:d} columns\n"
     ]
    },
    {
     "ename": "AttributeError",
     "evalue": "'NoneType' object has no attribute 'format'",
     "output_type": "error",
     "traceback": [
      "\u001b[0;31m---------------------------------------------------------------------------\u001b[0m",
      "\u001b[0;31mAttributeError\u001b[0m                            Traceback (most recent call last)",
      "\u001b[0;32m<ipython-input-95-0f433342f492>\u001b[0m in \u001b[0;36m<module>\u001b[0;34m()\u001b[0m\n\u001b[0;32m----> 1\u001b[0;31m \u001b[0msummarize\u001b[0m\u001b[0;34m(\u001b[0m\u001b[0mdata\u001b[0m\u001b[0;34m)\u001b[0m\u001b[0;34m\u001b[0m\u001b[0m\n\u001b[0m",
      "\u001b[0;32m<ipython-input-94-59e1eef2b3ec>\u001b[0m in \u001b[0;36msummarize\u001b[0;34m(datalist)\u001b[0m\n\u001b[1;32m      9\u001b[0m         \u001b[0mshape\u001b[0m \u001b[0;34m=\u001b[0m \u001b[0mnp\u001b[0m\u001b[0;34m.\u001b[0m\u001b[0marray\u001b[0m\u001b[0;34m(\u001b[0m\u001b[0meegtrials\u001b[0m\u001b[0;34m[\u001b[0m\u001b[0;34m'trial 1'\u001b[0m\u001b[0;34m]\u001b[0m\u001b[0;34m)\u001b[0m\u001b[0;34m.\u001b[0m\u001b[0mshape\u001b[0m\u001b[0;34m\u001b[0m\u001b[0m\n\u001b[1;32m     10\u001b[0m         print ('  eeg: {:d} trials, each a matrix with {:d} rows' +\n\u001b[0;32m---> 11\u001b[0;31m               \u001b[0;34m' and approximately {:d} columns'\u001b[0m\u001b[0;34m)\u001b[0m\u001b[0;34m.\u001b[0m\u001b[0mformat\u001b[0m\u001b[0;34m(\u001b[0m\u001b[0;31m \u001b[0m\u001b[0;31m\\\u001b[0m\u001b[0;34m\u001b[0m\u001b[0m\n\u001b[0m\u001b[1;32m     12\u001b[0m             len(eegtrials), shape[0], shape[1])\n",
      "\u001b[0;31mAttributeError\u001b[0m: 'NoneType' object has no attribute 'format'"
     ]
    }
   ],
   "source": [
    "summarize(data)"
   ]
  },
  {
   "cell_type": "markdown",
   "metadata": {},
   "source": [
    "# Plotting some EEG\n",
    "\n",
    "The first element of the data list has key-value pair `protocol: 3minutes`, meaning that this element contains 3 minutes of EEG recorded while the subject was asked to relax and look at the computer screen. Let’s take a look at 2 seconds of this data.\n",
    "\n",
    "The EEG consists of one matrix with 9 rows and 46,342 columns. The 9 rows correspond to the channels `channels:  ['F3', 'F4', 'C3', 'C4', 'P3', 'P4', 'O1', 'O2']` plus one more channel that is used to mark stimuli onset and offset, which is not used for the 3 minute protocol. The number of samples (in columns) in one second depends on the sample rate, which for this device, `device: GAMMAsys`, is 256 samples per second, `sample rate: 256`. Let’s plot data from all 9 channels for columns 1,000 to 1,512."
   ]
  },
  {
   "cell_type": "code",
   "execution_count": null,
   "metadata": {
    "collapsed": false
   },
   "outputs": [],
   "source": [
    "first = data[0]\n",
    "eeg = np.array(first['eeg']['trial 1'])\n",
    "eeg.shape"
   ]
  },
  {
   "cell_type": "code",
   "execution_count": null,
   "metadata": {
    "collapsed": false
   },
   "outputs": [],
   "source": [
    "# Using ending semicolon to suppress output of plotting functions.\n",
    "plt.figure(1);\n",
    "\n",
    "plt.axis('tight');\n",
    "\n",
    "plt.plot(eeg[:,4000:4512].T);"
   ]
  },
  {
   "cell_type": "markdown",
   "metadata": {
    "collapsed": true
   },
   "source": [
    "Kind of hard to see each channel. Let’s spread them out and not plot the constant, unused, 9th channel. Also, we can add a legend with the channel names. If we reverse the vertical order of the channel plots, they will correspond with the vertical order of the channel names."
   ]
  },
  {
   "cell_type": "code",
   "execution_count": null,
   "metadata": {
    "collapsed": false
   },
   "outputs": [],
   "source": [
    "plt.figure(2);\n",
    "\n",
    "plt.plot(eeg[:8,4000:4512].T + 80*np.arange(7,-1,-1));\n",
    "\n",
    "plt.plot(np.zeros((512,8)) + 80*np.arange(7,-1,-1),'--',color='gray');\n",
    "\n",
    "plt.yticks([]);\n",
    "\n",
    "plt.legend(first['channels']);\n",
    "\n",
    "plt.axis('tight');"
   ]
  },
  {
   "cell_type": "markdown",
   "metadata": {},
   "source": [
    "# Again, for EEG from ActiveTwo and Mindset Systems¶\n",
    "\n",
    "Now let’s summarize the data from the other two systems. First, rename data to dataGammasys."
   ]
  },
  {
   "cell_type": "code",
   "execution_count": null,
   "metadata": {
    "collapsed": false
   },
   "outputs": [],
   "source": [
    "dataGammasys = data\n",
    "\n",
    "dataActivetwo = json.load(open('data/s20-activetwo-gifford-unimpaired.json','r'))\n",
    "\n",
    "dataMindset = json.load(open('data/s20-mindset-gifford-unimpaired.json','r'))\n",
    "\n",
    "summarize(dataMindset[0:2])"
   ]
  },
  {
   "cell_type": "markdown",
   "metadata": {},
   "source": [
    "This shows that the Mindset has 19 channels of EEG, but the EEG matrix has 24 rows. The first 19 rows are the EEG channels. Let’s plot them."
   ]
  },
  {
   "cell_type": "code",
   "execution_count": null,
   "metadata": {
    "collapsed": false
   },
   "outputs": [],
   "source": [
    "eegMindset = np.array(dataMindset[0]['eeg']['trial 1'])\n",
    "\n",
    "plt.figure();\n",
    "\n",
    "plt.plot(eegMindset[:19,4000:4512].T + 30*np.arange(18,-1,-1));\n",
    "\n",
    "plt.plot(np.zeros((512,19)) + 30*np.arange(18,-1,-1),'--',color='gray');\n",
    "\n",
    "plt.yticks([]);\n",
    "\n",
    "plt.legend(dataMindset[0]['channels'], prop={'size':10});\n",
    "\n",
    "plt.axis('tight');"
   ]
  },
  {
   "cell_type": "markdown",
   "metadata": {},
   "source": [
    "Now for the data from the ActiveTwo system. First, let’s see which element in the list is for the 3minutes protocol."
   ]
  },
  {
   "cell_type": "code",
   "execution_count": null,
   "metadata": {
    "collapsed": false
   },
   "outputs": [],
   "source": [
    "summarize(dataActivetwo[0:2])"
   ]
  },
  {
   "cell_type": "code",
   "execution_count": null,
   "metadata": {
    "collapsed": false
   },
   "outputs": [],
   "source": [
    "eegActivetwo = np.array(dataActivetwo[1]['eeg']['trial 1'])\n",
    "\n",
    "eegActivetwo.shape"
   ]
  },
  {
   "cell_type": "markdown",
   "metadata": {},
   "source": [
    "This data matrix contains 41 rows. The list of channels is the 41 names"
   ]
  },
  {
   "cell_type": "code",
   "execution_count": null,
   "metadata": {
    "collapsed": false
   },
   "outputs": [],
   "source": [
    "dataActivetwo[1]['channels']"
   ]
  },
  {
   "cell_type": "markdown",
   "metadata": {},
   "source": [
    "The channels named EXG1 through EXG6 contain non-EEG data as follows:\n",
    "\n",
    "| Channel | Index | Electrode |\n",
    "|--- | --- | --- |\n",
    "| EXG1 | 32 | EOG vertical left |\n",
    "| EXG2 | 33| EOG vertical right |\n",
    "| EXG3 | 34| EOG horizontal left |\n",
    "| EXG4 | 35| EOG horizontal right |\n",
    "| EXG5 | 36| earlobe left |\n",
    "| EXG6 | 37| earlobe right |\n",
    "\n",
    "Typically, the EEG channels (indices 0 through 31) are referenced to the earlobes, after removing the linear trend. That’s easy."
   ]
  },
  {
   "cell_type": "code",
   "execution_count": null,
   "metadata": {
    "collapsed": false
   },
   "outputs": [],
   "source": [
    "eegActivetwo = sig.detrend(eegActivetwo,1)\n",
    "\n",
    "ref = np.mean(eegActivetwo[36:38,:],axis=0).reshape((1,-1))\n",
    "\n",
    "eeg = eegActivetwo[:32,:] - ref"
   ]
  },
  {
   "cell_type": "markdown",
   "metadata": {},
   "source": [
    "Now we can plot all 32 EEG channels."
   ]
  },
  {
   "cell_type": "code",
   "execution_count": null,
   "metadata": {
    "collapsed": false
   },
   "outputs": [],
   "source": [
    "plt.figure();\n",
    "\n",
    "plt.plot(eeg[:,4000:4512].T + 150*np.arange(31,-1,-1))\n",
    "\n",
    "plt.plot(np.zeros((512,32)) + 150*np.arange(31,-1,-1),'--',color='gray');\n",
    "\n",
    "plt.yticks([]);\n",
    "\n",
    "plt.legend(dataActivetwo[0]['channels'][:32], prop={'size':8});\n",
    "\n",
    "plt.axis('tight');"
   ]
  },
  {
   "cell_type": "code",
   "execution_count": null,
   "metadata": {
    "collapsed": true
   },
   "outputs": [],
   "source": []
  },
  {
   "cell_type": "code",
   "execution_count": null,
   "metadata": {
    "collapsed": true
   },
   "outputs": [],
   "source": []
  },
  {
   "cell_type": "code",
   "execution_count": null,
   "metadata": {
    "collapsed": true
   },
   "outputs": [],
   "source": []
  }
 ],
 "metadata": {
  "anaconda-cloud": {},
  "kernelspec": {
   "display_name": "Python [default]",
   "language": "python",
   "name": "python3"
  },
  "language_info": {
   "codemirror_mode": {
    "name": "ipython",
    "version": 3
   },
   "file_extension": ".py",
   "mimetype": "text/x-python",
   "name": "python",
   "nbconvert_exporter": "python",
   "pygments_lexer": "ipython3",
   "version": "3.5.2"
  }
 },
 "nbformat": 4,
 "nbformat_minor": 1
}
